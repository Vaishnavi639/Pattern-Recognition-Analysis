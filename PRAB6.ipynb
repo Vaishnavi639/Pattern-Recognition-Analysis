{
 "cells": [
  {
   "cell_type": "code",
   "execution_count": 4,
   "id": "74f35b59",
   "metadata": {},
   "outputs": [
    {
     "name": "stdout",
     "output_type": "stream",
     "text": [
      "Training k-NN classifier...\n",
      "k-NN Accuracy: 1.00\n"
     ]
    },
    {
     "data": {
      "image/png": "[encoded data removed]",
      "text/plain": [
       "<Figure size 1000x200 with 5 Axes>"
      ]
     },
     "metadata": {},
     "output_type": "display_data"
    }
   ],
   "source": [
    "import numpy as np\n",
    "import matplotlib.pyplot as plt \n",
    "import cv2\n",
    "from sklearn.model_selection import train_test_split \n",
    "from sklearn.metrics import accuracy_score\n",
    "from sklearn.neighbors import KNeighborsClassifier\n",
    "def generate_shape(shape, size=64):\n",
    "    img = np.zeros((size, size), dtype=np.uint8)\n",
    "    center = (size // 2, size // 2)\n",
    "    if shape == \"circle\":\n",
    "        cv2.circle(img, center, size // 3, 255, -1) \n",
    "    elif shape == \"square\":\n",
    "        cv2.rectangle(img, (size//4, size//4), (3*size//4, 3*size//4), 255, -1) \n",
    "    elif shape == \"triangle\":\n",
    "        pts = np.array([[size//2, size//5], [size//5, 4*size//5], [4*size//5, 4*size//5]], np.int32)\n",
    "        cv2.fillPoly(img, [pts], 255)\n",
    "    return img\n",
    "\n",
    "def create_dataset(num_samples=100):\n",
    "    shapes = [\"circle\", \"square\", \"triangle\"]\n",
    "    X, y = [], []\n",
    "    for i, shape in enumerate(shapes):\n",
    "        for _ in range(num_samples):\n",
    "            img = generate_shape(shape)\n",
    "            X.append(img.flatten()) # Flatten image into a feature vector\n",
    "            y.append(i) # Assign numerical label\n",
    "    return np.array(X), np.array(y)\n",
    "\n",
    "X, y = create_dataset(300)\n",
    "X_train, X_test, y_train, y_test = train_test_split(X, y, test_size=0.2, random_state=42)\n",
    "\n",
    "# ---- k-NN Classifier ----\n",
    "print(\"Training k-NN classifier...\")\n",
    "knn = KNeighborsClassifier(n_neighbors=5)\n",
    "knn.fit(X_train, y_train)\n",
    "y_pred_knn = knn.predict(X_test)\n",
    "knn_acc = accuracy_score(y_test, y_pred_knn)\n",
    "\n",
    "# Display Results\n",
    "print(f\"k-NN Accuracy: {knn_acc:.2f}\")\n",
    "\n",
    "# Plot sample classified images\n",
    "fig, axes = plt.subplots(1, 5, figsize=(10, 2))\n",
    "for i in range(5):\n",
    "    axes[i].imshow(X_test[i].reshape(64, 64), cmap=\"gray\")\n",
    "    axes[i].set_title(f\"Pred: {y_pred_knn[i]}\") \n",
    "    axes[i].axis(\"off\")\n",
    "plt.show()\n",
    "\n"
   ]
  }
 ],
 "metadata": {
  "kernelspec": {
   "display_name": "Python (TensorFlow)",
   "language": "python",
   "name": "tf-env"
  },
  "language_info": {
   "codemirror_mode": {
    "name": "ipython",
    "version": 3
   },
   "file_extension": ".py",
   "mimetype": "text/x-python",
   "name": "python",
   "nbconvert_exporter": "python",
   "pygments_lexer": "ipython3",
   "version": "3.11.5"
  }
 },
 "nbformat": 4,
 "nbformat_minor": 5
}
