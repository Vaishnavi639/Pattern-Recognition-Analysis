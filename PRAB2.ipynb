{
 "cells": [
  {
   "cell_type": "code",
   "execution_count": 9,
   "id": "2da3c1ed",
   "metadata": {},
   "outputs": [
    {
     "name": "stderr",
     "output_type": "stream",
     "text": [
      "MultinomialHMM has undergone major changes. The previous version was implementing a CategoricalHMM (a special case of MultinomialHMM). This new implementation follows the standard definition for a Multinomial distribution (e.g. as in https://en.wikipedia.org/wiki/Multinomial_distribution). See these issues for details:\n",
      "https://github.com/hmmlearn/hmmlearn/issues/335\n",
      "https://github.com/hmmlearn/hmmlearn/issues/340\n"
     ]
    },
    {
     "name": "stdout",
     "output_type": "stream",
     "text": [
      "\n",
      "Test DNA Sequence:  GTACGTA\n",
      "Predicted Gene Regions: GNGNGNG\n"
     ]
    },
    {
     "name": "stderr",
     "output_type": "stream",
     "text": [
      "         1       0.00000000             +nan\n",
      "         2       0.00000000      +0.00000000\n"
     ]
    }
   ],
   "source": [
    "import numpy as np\n",
    "from hmmlearn import hmm\n",
    "from collections import Counter\n",
    "\n",
    "# Mappings\n",
    "nucleotide_mapping = {'A': 0, 'C': 1, 'G': 2, 'T': 3}\n",
    "state_mapping = {'G': 0, 'N': 1}\n",
    "\n",
    "# Observed sequences (DNA)\n",
    "train_sequences = [\"ACGTAGCT\", \"CGTAGCTA\", \"GATCGTAC\"]\n",
    "\n",
    "# Hidden states (G = Gene, N = Non-Gene)\n",
    "train_states = [\"GGNNGGNN\", \"NNGGNNGG\", \"GGNNGGNN\"]\n",
    "\n",
    "# Convert sequences to numeric format\n",
    "observed_sequences = [np.array([nucleotide_mapping[nuc] for nuc in seq]).reshape(-1, 1) for seq in train_sequences]\n",
    "state_sequences = [np.array([state_mapping[state] for state in states]) for states in train_states]\n",
    "\n",
    "# Define HMM parameters\n",
    "n_states = 2\n",
    "n_observations = 4\n",
    "model = hmm.MultinomialHMM(n_components=n_states, n_iter=100, tol=1e-4, verbose=True)\n",
    "\n",
    "# Prepare training data\n",
    "X_train = np.concatenate(observed_sequences)\n",
    "lengths = [len(seq) for seq in observed_sequences]\n",
    "\n",
    "# Train the model\n",
    "model.fit(X_train, lengths)\n",
    "\n",
    "# Test on new sequence\n",
    "test_sequence = \"GTACGTA\"\n",
    "test_observed = np.array([nucleotide_mapping[nuc] for nuc in test_sequence]).reshape(-1, 1)\n",
    "predicted_states = model.predict(test_observed)\n",
    "\n",
    "# Convert back to G/N labels\n",
    "predicted_labels = ''.join(['G' if s == 0 else 'N' for s in predicted_states])\n",
    "\n",
    "# Print results\n",
    "print(\"\\nTest DNA Sequence: \", test_sequence)\n",
    "print(\"Predicted Gene Regions:\", predicted_labels)\n"
   ]
  }
 ],
 "metadata": {
  "kernelspec": {
   "display_name": "Python (TensorFlow)",
   "language": "python",
   "name": "tf-env"
  },
  "language_info": {
   "codemirror_mode": {
    "name": "ipython",
    "version": 3
   },
   "file_extension": ".py",
   "mimetype": "text/x-python",
   "name": "python",
   "nbconvert_exporter": "python",
   "pygments_lexer": "ipython3",
   "version": "3.11.5"
  }
 },
 "nbformat": 4,
 "nbformat_minor": 5
}
